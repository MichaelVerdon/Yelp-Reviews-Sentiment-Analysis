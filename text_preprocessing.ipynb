{
 "cells": [
  {
   "cell_type": "code",
   "execution_count": 1,
   "metadata": {},
   "outputs": [
    {
     "name": "stdout",
     "output_type": "stream",
     "text": [
      "showing info https://raw.githubusercontent.com/nltk/nltk_data/gh-pages/index.xml\n"
     ]
    },
    {
     "data": {
      "text/plain": [
       "True"
      ]
     },
     "execution_count": 1,
     "metadata": {},
     "output_type": "execute_result"
    }
   ],
   "source": [
    "import numpy as np\n",
    "import pandas as pd\n",
    "import nltk\n",
    "import string\n",
    "\n",
    "from nltk.tokenize import word_tokenize\n",
    "from nltk.corpus import stopwords\n",
    "from sklearn.feature_extraction.text import CountVectorizer\n",
    "from sklearn.feature_extraction.text import TfidfVectorizer\n",
    "\n",
    "nltk.download()"
   ]
  },
  {
   "cell_type": "code",
   "execution_count": 2,
   "metadata": {},
   "outputs": [],
   "source": [
    "reviews = pd.read_csv(\"imdbReviews.csv\")"
   ]
  },
  {
   "cell_type": "code",
   "execution_count": 3,
   "metadata": {},
   "outputs": [
    {
     "data": {
      "text/html": [
       "<div>\n",
       "<style scoped>\n",
       "    .dataframe tbody tr th:only-of-type {\n",
       "        vertical-align: middle;\n",
       "    }\n",
       "\n",
       "    .dataframe tbody tr th {\n",
       "        vertical-align: top;\n",
       "    }\n",
       "\n",
       "    .dataframe thead th {\n",
       "        text-align: right;\n",
       "    }\n",
       "</style>\n",
       "<table border=\"1\" class=\"dataframe\">\n",
       "  <thead>\n",
       "    <tr style=\"text-align: right;\">\n",
       "      <th></th>\n",
       "      <th>Index</th>\n",
       "      <th>URL</th>\n",
       "      <th>Text</th>\n",
       "      <th>Sentiment</th>\n",
       "    </tr>\n",
       "  </thead>\n",
       "  <tbody>\n",
       "    <tr>\n",
       "      <th>0</th>\n",
       "      <td>3617</td>\n",
       "      <td>http://www.imdb.com/title/tt0210075/usercomments</td>\n",
       "      <td>Girlfight follows a project dwelling New York ...</td>\n",
       "      <td>POS</td>\n",
       "    </tr>\n",
       "    <tr>\n",
       "      <th>1</th>\n",
       "      <td>3671</td>\n",
       "      <td>http://www.imdb.com/title/tt0337640/usercomments</td>\n",
       "      <td>Hollywood North is an euphemism from the movie...</td>\n",
       "      <td>POS</td>\n",
       "    </tr>\n",
       "    <tr>\n",
       "      <th>2</th>\n",
       "      <td>3157</td>\n",
       "      <td>http://www.imdb.com/title/tt0303549/usercomments</td>\n",
       "      <td>That '70s Show is definitely the funniest show...</td>\n",
       "      <td>POS</td>\n",
       "    </tr>\n",
       "    <tr>\n",
       "      <th>3</th>\n",
       "      <td>660</td>\n",
       "      <td>http://www.imdb.com/title/tt0716825/usercomments</td>\n",
       "      <td>9/10- 30 minutes of pure holiday terror. Okay,...</td>\n",
       "      <td>POS</td>\n",
       "    </tr>\n",
       "    <tr>\n",
       "      <th>4</th>\n",
       "      <td>265</td>\n",
       "      <td>http://www.imdb.com/title/tt0182225/usercomments</td>\n",
       "      <td>A series of random, seemingly insignificant th...</td>\n",
       "      <td>POS</td>\n",
       "    </tr>\n",
       "  </tbody>\n",
       "</table>\n",
       "</div>"
      ],
      "text/plain": [
       "   Index                                               URL   \n",
       "0   3617  http://www.imdb.com/title/tt0210075/usercomments  \\\n",
       "1   3671  http://www.imdb.com/title/tt0337640/usercomments   \n",
       "2   3157  http://www.imdb.com/title/tt0303549/usercomments   \n",
       "3    660  http://www.imdb.com/title/tt0716825/usercomments   \n",
       "4    265  http://www.imdb.com/title/tt0182225/usercomments   \n",
       "\n",
       "                                                Text Sentiment  \n",
       "0  Girlfight follows a project dwelling New York ...       POS  \n",
       "1  Hollywood North is an euphemism from the movie...       POS  \n",
       "2  That '70s Show is definitely the funniest show...       POS  \n",
       "3  9/10- 30 minutes of pure holiday terror. Okay,...       POS  \n",
       "4  A series of random, seemingly insignificant th...       POS  "
      ]
     },
     "execution_count": 3,
     "metadata": {},
     "output_type": "execute_result"
    }
   ],
   "source": [
    "reviews.head()"
   ]
  },
  {
   "cell_type": "code",
   "execution_count": 4,
   "metadata": {},
   "outputs": [
    {
     "data": {
      "text/plain": [
       "(2000, 4)"
      ]
     },
     "execution_count": 4,
     "metadata": {},
     "output_type": "execute_result"
    }
   ],
   "source": [
    "reviews.shape"
   ]
  },
  {
   "cell_type": "code",
   "execution_count": 5,
   "metadata": {},
   "outputs": [
    {
     "data": {
      "text/plain": [
       "Index(['Index', 'URL', 'Text', 'Sentiment'], dtype='object')"
      ]
     },
     "execution_count": 5,
     "metadata": {},
     "output_type": "execute_result"
    }
   ],
   "source": [
    "reviews.keys()"
   ]
  },
  {
   "cell_type": "code",
   "execution_count": 6,
   "metadata": {},
   "outputs": [
    {
     "data": {
      "text/plain": [
       "Sentiment\n",
       "POS    1000\n",
       "NEG    1000\n",
       "Name: count, dtype: int64"
      ]
     },
     "execution_count": 6,
     "metadata": {},
     "output_type": "execute_result"
    }
   ],
   "source": [
    "reviews[\"Sentiment\"].value_counts()"
   ]
  },
  {
   "cell_type": "code",
   "execution_count": 7,
   "metadata": {},
   "outputs": [
    {
     "name": "stdout",
     "output_type": "stream",
     "text": [
      "[1 1 1 1 1 1 1 1 1 1]\n",
      "0    POS\n",
      "1    POS\n",
      "2    POS\n",
      "3    POS\n",
      "4    POS\n",
      "5    POS\n",
      "6    POS\n",
      "7    POS\n",
      "8    POS\n",
      "9    POS\n",
      "Name: Sentiment, dtype: object\n"
     ]
    }
   ],
   "source": [
    "# Change labels to numerical (0s and 1s)\n",
    "from sklearn.preprocessing import LabelEncoder\n",
    "\n",
    "enc = LabelEncoder()\n",
    "label = enc.fit_transform(reviews[\"Sentiment\"])\n",
    "print(label[:10])\n",
    "print(reviews[\"Sentiment\"][:10])"
   ]
  },
  {
   "cell_type": "code",
   "execution_count": 8,
   "metadata": {},
   "outputs": [],
   "source": [
    "reviews = reviews.astype({\"Text\":\"string\"})"
   ]
  },
  {
   "cell_type": "code",
   "execution_count": 9,
   "metadata": {},
   "outputs": [
    {
     "data": {
      "text/plain": [
       "0    Girlfight follows a project dwelling New York ...\n",
       "1    Hollywood North is an euphemism from the movie...\n",
       "2    That '70s Show is definitely the funniest show...\n",
       "3    9/10- 30 minutes of pure holiday terror. Okay,...\n",
       "4    A series of random, seemingly insignificant th...\n",
       "Name: Text, dtype: string"
      ]
     },
     "execution_count": 9,
     "metadata": {},
     "output_type": "execute_result"
    }
   ],
   "source": [
    "text = reviews[\"Text\"]\n",
    "text[:5]"
   ]
  },
  {
   "cell_type": "code",
   "execution_count": 10,
   "metadata": {},
   "outputs": [
    {
     "data": {
      "text/plain": [
       "['girlfight follows a project dwelling new york high school girl from a sense of futility into the world of amateur boxing where she finds self esteem purpose and much more although the film is not about boxing boxing is all about the film so much so you can almost smell the sweat technically and artistically a good shoot with an sense of honesty and reality about it girlfight is no chick flick and no rocky it is rather a very human drama which even viewers who dont know boxing will be able to connect withgirlfight follows a project dwelling new york high school girl from a sense of futility into the world of amateur boxing where she finds self esteem purpose and much more',\n",
       " 'hollywood north is an euphemism from the movie industry as they went to canada to make movies because of tax breaks and cheaper costs in a civilized city like toronto in this case later in vancouver peter obrian the director probably saw a lot of the invaders from california that this movie seems to be the right way to deal with the arriving personalities trying to capitalize on the economics that canada presentedneedless to say moon lantern the successful novel written by a canadian author is turned into flight to bogota which has nothing to do with the original film a great egotistical hasbeen michael baytes who is obsessed with what is happening in iran is offered the lead part which turns to be a disasterthe film seems to be saying that too many cooks have spoiled the broth which seems to be the case with the ultimate product which is saved by its producer bobby myers with the help of sandy ryan who has been around making a documentary of the film being shot in toronto parts of the film are transformed into a cohesive movie at lastthe filming process is hilarious and the acting in general is goodhollywood north is an euphemism from the movie industry as they went to canada to make movies because of tax breaks and cheaper costs in a civilized city like toronto in this case later in vancouver',\n",
       " 'that s show is definitely the funniest show currently on tv i started watching it about two and a half years ago and as soon as i saw it i could tell it was a great show i like all the characters but my personal favorites are fez and kelso leo was also an awesome character while he was there i really hope he comes back because hes hilarious its classic when fez goes you son of a bitch and when kelso yells burn that always makes me laugh they are both great characters and always have something funny to say jackie being hot is just another reason to watch the show she started out being really good looking but damn somewhere around season  she just got really hot ive seen most of the episodes more than once some like  times and there still hilarious this is one of the few shows that i can watch over and over and still laugh at just as much as i did the first time i saw it the cast is classic almost everyone is funny where with many shows there are only a few funny characters i will be sad to see this show end next year but it will be going off the air as one of the best shows everthat s show is definitely the funniest show currently on tv',\n",
       " '  minutes of pure holiday terror okay so its not that scary but it sure is funthe crypt keeper john kassir tales a tale of holiday fear giving us all christmas goose gossebumps that is bwahahahahha you should really be careful what you axe santa for have a scary christmas and a happy new fear okay ill stopokay so in the story a greedy wife best screamer in the world mary ellen trainor kills her husband marshall bell the coach who gets towel whipped to death in anoes  for the money but her plan is ruined when a crazy killer dressed in a santa suit larry dr giggles drake comes her wayif you look it up on youtube you can watch it for free but most of you have already seen this my third viewing but if you havent seen it i suggest you do  minutes of pure holiday terror',\n",
       " 'a series of random seemingly insignificant thefts at her sisters boarding house has miss lemon quite agitated a ring light bulbs a rucksack a lighter a stethoscope a shoe \\x96 there seems to be no rhyme or reason to any of it miss lemon asks her employer the great belgian detective hercule poirot to look into the matter but what poirot sees is something far more sinister than miss lemon could have imagined and poirots fears are confirmed when one of the students living in the boarding house if found murdered its up to poirot to bring a killer to justicehickory dickory dock is a solid but not spectacular entry in the long running poirot series i appreciate how faithful the script is to agatha christies original story i realize that certain liberties had to be taken but i appreciate the effort nonetheless the major points of the mystery are all there \\x96 the petty thefts the boarding house the students the ripped rucksack and of course poirots ability to see something sinister going on before it actually happens with a few exceptions the cast of students is almost as i pictured them damian lewis and jessica lloyd standout among the group as mush as i always enjoy david suchets poirot i get a real kick out of the episodes with phillip jacksons inspector japp and pauline morans miss lemon this episode is a real treat as miss lemon gets more screen time than usual finally i enjoyed the use of the ever present mouse as an observer of the activities in the hostel its a fun little play on the hickory dickory dock titlei realized while rewatching hickory dickory dock just what a tremendous influence agatha christies work was on the highly stylized italian mystery films or gialli of the s and s take the murder of mrs nicoletis as an example if you were to bump up the graphic nature of the scene you would have something straight out of an early s giallo in fact the entire plot of hickory dickory dock could have been used in a giallo its just convoluted and interesting enough to have workeda series of random seemingly insignificant thefts at her sisters boarding house has miss lemon quite agitated']"
      ]
     },
     "execution_count": 10,
     "metadata": {},
     "output_type": "execute_result"
    }
   ],
   "source": [
    "text1 = []\n",
    "\n",
    "for review in text:\n",
    "    #print(sentence)\n",
    "    #remove punctuation\n",
    "    review = review.translate(str.maketrans('','', string.punctuation))\n",
    "    #remove digits and numbers\n",
    "    review = review.translate(str.maketrans('','', string.digits))\n",
    "    #change to lowercase\n",
    "    review = review.lower()\n",
    "    #print(sentence)\n",
    "    text1.append(review)\n",
    "\n",
    "text1[:5]"
   ]
  },
  {
   "cell_type": "code",
   "execution_count": 11,
   "metadata": {},
   "outputs": [
    {
     "data": {
      "text/plain": [
       "0    girlfight follows a project dwelling new york ...\n",
       "1    hollywood north is an euphemism from the movie...\n",
       "2    that s show is definitely the funniest show cu...\n",
       "3      minutes of pure holiday terror okay so its n...\n",
       "4    a series of random seemingly insignificant the...\n",
       "dtype: object"
      ]
     },
     "execution_count": 11,
     "metadata": {},
     "output_type": "execute_result"
    }
   ],
   "source": [
    "text1 = pd.Series(text1)\n",
    "text1[:5]"
   ]
  },
  {
   "cell_type": "code",
   "execution_count": 12,
   "metadata": {},
   "outputs": [
    {
     "data": {
      "text/plain": [
       "0    girlfight follows project dwelling new york hi...\n",
       "1    hollywood north euphemism movie industry went ...\n",
       "2    show definitely funniest show currently tv sta...\n",
       "3    minutes pure holiday terror okay scary sure fu...\n",
       "4    series random seemingly insignificant thefts s...\n",
       "dtype: object"
      ]
     },
     "execution_count": 12,
     "metadata": {},
     "output_type": "execute_result"
    }
   ],
   "source": [
    "#remove stop words\n",
    "\n",
    "#Setting English stopwords\n",
    "stop_words = set(stopwords.words(\"english\"))\n",
    "\n",
    "text1 = text1.apply(lambda x: ' '.join(term for term in x.split() if term not in stop_words))\n",
    "text1[:5]"
   ]
  },
  {
   "cell_type": "code",
   "execution_count": 13,
   "metadata": {},
   "outputs": [
    {
     "data": {
      "text/plain": [
       "0    girlfight follows project dwelling new york hi...\n",
       "1    hollywood north euphemism movie industry went ...\n",
       "2    show definitely funniest show currently tv sta...\n",
       "3    minute pure holiday terror okay scary sure fun...\n",
       "4    series random seemingly insignificant theft si...\n",
       "dtype: object"
      ]
     },
     "execution_count": 13,
     "metadata": {},
     "output_type": "execute_result"
    }
   ],
   "source": [
    "#apply lemmatising\n",
    "from nltk.stem import WordNetLemmatizer\n",
    "\n",
    "#Init\n",
    "lemmatizer = WordNetLemmatizer()\n",
    "text2 = text1.apply(lambda x: ' '.join(lemmatizer.lemmatize(w) for w in x.split()))\n",
    "text2[:5]"
   ]
  },
  {
   "cell_type": "code",
   "execution_count": 14,
   "metadata": {},
   "outputs": [
    {
     "data": {
      "text/plain": [
       "0    girlfight follows project dwelling new york hi...\n",
       "1    hollywood north euphemism movie industry went ...\n",
       "2    show definitely funniest show currently tv sta...\n",
       "3    minute pure holiday terror okay scary sure fun...\n",
       "4    series random seemingly insignificant theft si...\n",
       "dtype: object"
      ]
     },
     "execution_count": 14,
     "metadata": {},
     "output_type": "execute_result"
    }
   ],
   "source": [
    "#apply lemmatizing with POS tags\n",
    "\n",
    "from nltk.corpus import wordnet\n",
    "\n",
    "def get_wordnet_pos(word):\n",
    "    #Map POS tag to first character lemmatize() accepts\n",
    "    tag = nltk.pos_tag([word])[0][1][0].upper()\n",
    "    tag_dict = {\n",
    "        \"J\" : wordnet.ADJ,\n",
    "        \"N\" : wordnet.NOUN,\n",
    "        \"V\" : wordnet.ADJ,\n",
    "        \"R\" : wordnet.ADV\n",
    "    }\n",
    "\n",
    "    return tag_dict.get(tag, wordnet.NOUN)\n",
    "\n",
    "lemmatizier = WordNetLemmatizer()\n",
    "text3 = text1.apply(lambda x: ' '.join(lemmatizer.lemmatize(w, get_wordnet_pos(w)) for w in x.split()))\n",
    "text3[:5]"
   ]
  },
  {
   "cell_type": "code",
   "execution_count": 15,
   "metadata": {},
   "outputs": [
    {
     "data": {
      "text/html": [
       "<div>\n",
       "<style scoped>\n",
       "    .dataframe tbody tr th:only-of-type {\n",
       "        vertical-align: middle;\n",
       "    }\n",
       "\n",
       "    .dataframe tbody tr th {\n",
       "        vertical-align: top;\n",
       "    }\n",
       "\n",
       "    .dataframe thead th {\n",
       "        text-align: right;\n",
       "    }\n",
       "</style>\n",
       "<table border=\"1\" class=\"dataframe\">\n",
       "  <thead>\n",
       "    <tr style=\"text-align: right;\">\n",
       "      <th></th>\n",
       "      <th>Review</th>\n",
       "      <th>Sentiment</th>\n",
       "    </tr>\n",
       "  </thead>\n",
       "  <tbody>\n",
       "    <tr>\n",
       "      <th>0</th>\n",
       "      <td>girlfight follows project dwelling new york hi...</td>\n",
       "      <td>1</td>\n",
       "    </tr>\n",
       "    <tr>\n",
       "      <th>1</th>\n",
       "      <td>hollywood north euphemism movie industry went ...</td>\n",
       "      <td>1</td>\n",
       "    </tr>\n",
       "    <tr>\n",
       "      <th>2</th>\n",
       "      <td>show definitely funniest show currently tv sta...</td>\n",
       "      <td>1</td>\n",
       "    </tr>\n",
       "    <tr>\n",
       "      <th>3</th>\n",
       "      <td>minute pure holiday terror okay scary sure fun...</td>\n",
       "      <td>1</td>\n",
       "    </tr>\n",
       "    <tr>\n",
       "      <th>4</th>\n",
       "      <td>series random seemingly insignificant theft si...</td>\n",
       "      <td>1</td>\n",
       "    </tr>\n",
       "    <tr>\n",
       "      <th>...</th>\n",
       "      <td>...</td>\n",
       "      <td>...</td>\n",
       "    </tr>\n",
       "    <tr>\n",
       "      <th>1995</th>\n",
       "      <td>tourist head ireland school trip learn druid e...</td>\n",
       "      <td>0</td>\n",
       "    </tr>\n",
       "    <tr>\n",
       "      <th>1996</th>\n",
       "      <td>two film useful scaring people god event horiz...</td>\n",
       "      <td>0</td>\n",
       "    </tr>\n",
       "    <tr>\n",
       "      <th>1997</th>\n",
       "      <td>ulises literature teacher arrives coastal town...</td>\n",
       "      <td>0</td>\n",
       "    </tr>\n",
       "    <tr>\n",
       "      <th>1998</th>\n",
       "      <td>um okay guess get whole shakycam gorillastyle ...</td>\n",
       "      <td>0</td>\n",
       "    </tr>\n",
       "    <tr>\n",
       "      <th>1999</th>\n",
       "      <td>unfortunately film pathetic attempt true story...</td>\n",
       "      <td>0</td>\n",
       "    </tr>\n",
       "  </tbody>\n",
       "</table>\n",
       "<p>2000 rows × 2 columns</p>\n",
       "</div>"
      ],
      "text/plain": [
       "                                                 Review  Sentiment\n",
       "0     girlfight follows project dwelling new york hi...          1\n",
       "1     hollywood north euphemism movie industry went ...          1\n",
       "2     show definitely funniest show currently tv sta...          1\n",
       "3     minute pure holiday terror okay scary sure fun...          1\n",
       "4     series random seemingly insignificant theft si...          1\n",
       "...                                                 ...        ...\n",
       "1995  tourist head ireland school trip learn druid e...          0\n",
       "1996  two film useful scaring people god event horiz...          0\n",
       "1997  ulises literature teacher arrives coastal town...          0\n",
       "1998  um okay guess get whole shakycam gorillastyle ...          0\n",
       "1999  unfortunately film pathetic attempt true story...          0\n",
       "\n",
       "[2000 rows x 2 columns]"
      ]
     },
     "execution_count": 15,
     "metadata": {},
     "output_type": "execute_result"
    }
   ],
   "source": [
    "reviews1 = list(zip(text3, label))\n",
    "\n",
    "reviewsP = pd.DataFrame(reviews1, columns = [\"Review\", \"Sentiment\"])\n",
    "reviewsP"
   ]
  },
  {
   "cell_type": "code",
   "execution_count": 16,
   "metadata": {},
   "outputs": [
    {
     "data": {
      "text/plain": [
       "array(['aa', 'aaa', 'aadha', ..., 'ís', 'ísnt', 'øif'], dtype=object)"
      ]
     },
     "execution_count": 16,
     "metadata": {},
     "output_type": "execute_result"
    }
   ],
   "source": [
    "#transform text into BoW with count features\n",
    "cv=CountVectorizer()\n",
    "\n",
    "cv_reviews = cv.fit_transform(reviewsP[\"Review\"])\n",
    "\n",
    "cv.get_feature_names_out()"
   ]
  },
  {
   "cell_type": "code",
   "execution_count": 17,
   "metadata": {},
   "outputs": [
    {
     "name": "stdout",
     "output_type": "stream",
     "text": [
      "  (0, 11229)\t2\n",
      "  (0, 10372)\t2\n",
      "  (0, 21349)\t2\n",
      "  (0, 8092)\t2\n",
      "  (0, 18455)\t2\n",
      "  (0, 30624)\t2\n",
      "  (0, 12591)\t2\n",
      "  (0, 23761)\t2\n",
      "  (0, 11228)\t2\n",
      "  (0, 24161)\t3\n",
      "  (0, 10859)\t2\n",
      "  (0, 30351)\t2\n",
      "  (0, 867)\t2\n",
      "  (0, 3192)\t5\n",
      "  (0, 10082)\t2\n",
      "  (0, 24065)\t2\n",
      "  (0, 8919)\t2\n",
      "  (0, 21609)\t2\n",
      "  (0, 17978)\t3\n",
      "  (0, 844)\t1\n",
      "  (0, 9927)\t2\n",
      "  (0, 789)\t1\n",
      "  (0, 25066)\t1\n",
      "  (0, 26656)\t1\n",
      "  (0, 26988)\t1\n",
      "  :\t:\n",
      "  (1999, 19179)\t1\n",
      "  (1999, 26029)\t3\n",
      "  (1999, 15863)\t1\n",
      "  (1999, 1978)\t1\n",
      "  (1999, 27334)\t2\n",
      "  (1999, 250)\t1\n",
      "  (1999, 6950)\t1\n",
      "  (1999, 23113)\t1\n",
      "  (1999, 1689)\t3\n",
      "  (1999, 28187)\t3\n",
      "  (1999, 9137)\t1\n",
      "  (1999, 20428)\t2\n",
      "  (1999, 15785)\t1\n",
      "  (1999, 20205)\t1\n",
      "  (1999, 19990)\t2\n",
      "  (1999, 28670)\t2\n",
      "  (1999, 3160)\t1\n",
      "  (1999, 14668)\t2\n",
      "  (1999, 26202)\t2\n",
      "  (1999, 17267)\t2\n",
      "  (1999, 18450)\t1\n",
      "  (1999, 15224)\t1\n",
      "  (1999, 5628)\t1\n",
      "  (1999, 3772)\t1\n",
      "  (1999, 23860)\t1\n"
     ]
    }
   ],
   "source": [
    "print(cv_reviews)"
   ]
  },
  {
   "cell_type": "code",
   "execution_count": 19,
   "metadata": {},
   "outputs": [
    {
     "data": {
      "text/plain": [
       "(2000, 30827)"
      ]
     },
     "execution_count": 19,
     "metadata": {},
     "output_type": "execute_result"
    }
   ],
   "source": [
    "cv_reviews.shape"
   ]
  },
  {
   "cell_type": "code",
   "execution_count": 20,
   "metadata": {},
   "outputs": [
    {
     "data": {
      "text/html": [
       "<div>\n",
       "<style scoped>\n",
       "    .dataframe tbody tr th:only-of-type {\n",
       "        vertical-align: middle;\n",
       "    }\n",
       "\n",
       "    .dataframe tbody tr th {\n",
       "        vertical-align: top;\n",
       "    }\n",
       "\n",
       "    .dataframe thead th {\n",
       "        text-align: right;\n",
       "    }\n",
       "</style>\n",
       "<table border=\"1\" class=\"dataframe\">\n",
       "  <thead>\n",
       "    <tr style=\"text-align: right;\">\n",
       "      <th></th>\n",
       "      <th>aa</th>\n",
       "      <th>aaa</th>\n",
       "      <th>aadha</th>\n",
       "      <th>aag</th>\n",
       "      <th>aames</th>\n",
       "      <th>aamess</th>\n",
       "      <th>aap</th>\n",
       "      <th>aapke</th>\n",
       "      <th>aardman</th>\n",
       "      <th>aaron</th>\n",
       "      <th>...</th>\n",
       "      <th>zwick</th>\n",
       "      <th>zyuranger</th>\n",
       "      <th>zz</th>\n",
       "      <th>zzzzzzzzas</th>\n",
       "      <th>½th</th>\n",
       "      <th>ème</th>\n",
       "      <th>éme</th>\n",
       "      <th>ís</th>\n",
       "      <th>ísnt</th>\n",
       "      <th>øif</th>\n",
       "    </tr>\n",
       "  </thead>\n",
       "  <tbody>\n",
       "    <tr>\n",
       "      <th>0</th>\n",
       "      <td>0</td>\n",
       "      <td>0</td>\n",
       "      <td>0</td>\n",
       "      <td>0</td>\n",
       "      <td>0</td>\n",
       "      <td>0</td>\n",
       "      <td>0</td>\n",
       "      <td>0</td>\n",
       "      <td>0</td>\n",
       "      <td>0</td>\n",
       "      <td>...</td>\n",
       "      <td>0</td>\n",
       "      <td>0</td>\n",
       "      <td>0</td>\n",
       "      <td>0</td>\n",
       "      <td>0</td>\n",
       "      <td>0</td>\n",
       "      <td>0</td>\n",
       "      <td>0</td>\n",
       "      <td>0</td>\n",
       "      <td>0</td>\n",
       "    </tr>\n",
       "    <tr>\n",
       "      <th>1</th>\n",
       "      <td>0</td>\n",
       "      <td>0</td>\n",
       "      <td>0</td>\n",
       "      <td>0</td>\n",
       "      <td>0</td>\n",
       "      <td>0</td>\n",
       "      <td>0</td>\n",
       "      <td>0</td>\n",
       "      <td>0</td>\n",
       "      <td>0</td>\n",
       "      <td>...</td>\n",
       "      <td>0</td>\n",
       "      <td>0</td>\n",
       "      <td>0</td>\n",
       "      <td>0</td>\n",
       "      <td>0</td>\n",
       "      <td>0</td>\n",
       "      <td>0</td>\n",
       "      <td>0</td>\n",
       "      <td>0</td>\n",
       "      <td>0</td>\n",
       "    </tr>\n",
       "    <tr>\n",
       "      <th>2</th>\n",
       "      <td>0</td>\n",
       "      <td>0</td>\n",
       "      <td>0</td>\n",
       "      <td>0</td>\n",
       "      <td>0</td>\n",
       "      <td>0</td>\n",
       "      <td>0</td>\n",
       "      <td>0</td>\n",
       "      <td>0</td>\n",
       "      <td>0</td>\n",
       "      <td>...</td>\n",
       "      <td>0</td>\n",
       "      <td>0</td>\n",
       "      <td>0</td>\n",
       "      <td>0</td>\n",
       "      <td>0</td>\n",
       "      <td>0</td>\n",
       "      <td>0</td>\n",
       "      <td>0</td>\n",
       "      <td>0</td>\n",
       "      <td>0</td>\n",
       "    </tr>\n",
       "    <tr>\n",
       "      <th>3</th>\n",
       "      <td>0</td>\n",
       "      <td>0</td>\n",
       "      <td>0</td>\n",
       "      <td>0</td>\n",
       "      <td>0</td>\n",
       "      <td>0</td>\n",
       "      <td>0</td>\n",
       "      <td>0</td>\n",
       "      <td>0</td>\n",
       "      <td>0</td>\n",
       "      <td>...</td>\n",
       "      <td>0</td>\n",
       "      <td>0</td>\n",
       "      <td>0</td>\n",
       "      <td>0</td>\n",
       "      <td>0</td>\n",
       "      <td>0</td>\n",
       "      <td>0</td>\n",
       "      <td>0</td>\n",
       "      <td>0</td>\n",
       "      <td>0</td>\n",
       "    </tr>\n",
       "    <tr>\n",
       "      <th>4</th>\n",
       "      <td>0</td>\n",
       "      <td>0</td>\n",
       "      <td>0</td>\n",
       "      <td>0</td>\n",
       "      <td>0</td>\n",
       "      <td>0</td>\n",
       "      <td>0</td>\n",
       "      <td>0</td>\n",
       "      <td>0</td>\n",
       "      <td>0</td>\n",
       "      <td>...</td>\n",
       "      <td>0</td>\n",
       "      <td>0</td>\n",
       "      <td>0</td>\n",
       "      <td>0</td>\n",
       "      <td>0</td>\n",
       "      <td>0</td>\n",
       "      <td>0</td>\n",
       "      <td>0</td>\n",
       "      <td>0</td>\n",
       "      <td>0</td>\n",
       "    </tr>\n",
       "  </tbody>\n",
       "</table>\n",
       "<p>5 rows × 30827 columns</p>\n",
       "</div>"
      ],
      "text/plain": [
       "   aa  aaa  aadha  aag  aames  aamess  aap  aapke  aardman  aaron  ...  zwick   \n",
       "0   0    0      0    0      0       0    0      0        0      0  ...      0  \\\n",
       "1   0    0      0    0      0       0    0      0        0      0  ...      0   \n",
       "2   0    0      0    0      0       0    0      0        0      0  ...      0   \n",
       "3   0    0      0    0      0       0    0      0        0      0  ...      0   \n",
       "4   0    0      0    0      0       0    0      0        0      0  ...      0   \n",
       "\n",
       "   zyuranger  zz  zzzzzzzzas  ½th  ème  éme  ís  ísnt  øif  \n",
       "0          0   0           0    0    0    0   0     0    0  \n",
       "1          0   0           0    0    0    0   0     0    0  \n",
       "2          0   0           0    0    0    0   0     0    0  \n",
       "3          0   0           0    0    0    0   0     0    0  \n",
       "4          0   0           0    0    0    0   0     0    0  \n",
       "\n",
       "[5 rows x 30827 columns]"
      ]
     },
     "execution_count": 20,
     "metadata": {},
     "output_type": "execute_result"
    }
   ],
   "source": [
    "df = pd.DataFrame(cv_reviews.toarray(), columns=cv.get_feature_names_out())\n",
    "df.head()"
   ]
  },
  {
   "cell_type": "code",
   "execution_count": 21,
   "metadata": {},
   "outputs": [
    {
     "data": {
      "text/plain": [
       "(2000, 10000)"
      ]
     },
     "execution_count": 21,
     "metadata": {},
     "output_type": "execute_result"
    }
   ],
   "source": [
    "cv=CountVectorizer(max_features=10000)\n",
    "\n",
    "cv_reviews = cv.fit_transform(reviewsP[\"Review\"])\n",
    "\n",
    "cv_reviews.shape"
   ]
  },
  {
   "cell_type": "code",
   "execution_count": 23,
   "metadata": {},
   "outputs": [
    {
     "name": "stdout",
     "output_type": "stream",
     "text": [
      "['aa' 'aaa' 'aadha' ... 'ís' 'ísnt' 'øif']\n"
     ]
    }
   ],
   "source": [
    "#Transform text into Tfidf representations\n",
    "tv=TfidfVectorizer()\n",
    "\n",
    "tv_reviews = tv.fit_transform(reviewsP[\"Review\"])\n",
    "\n",
    "print(tv.get_feature_names_out())"
   ]
  },
  {
   "cell_type": "code",
   "execution_count": 24,
   "metadata": {},
   "outputs": [
    {
     "data": {
      "text/plain": [
       "(2000, 30827)"
      ]
     },
     "execution_count": 24,
     "metadata": {},
     "output_type": "execute_result"
    }
   ],
   "source": [
    "tv_reviews.shape"
   ]
  },
  {
   "cell_type": "code",
   "execution_count": 25,
   "metadata": {},
   "outputs": [
    {
     "name": "stdout",
     "output_type": "stream",
     "text": [
      "  (0, 30211)\t0.130751317682835\n",
      "  (0, 5426)\t0.11003873245577815\n",
      "  (0, 47)\t0.06955575673649288\n",
      "  (0, 15086)\t0.04199424569280431\n",
      "  (0, 7657)\t0.03875019210454927\n",
      "  (0, 29281)\t0.06111000958839087\n",
      "  (0, 8997)\t0.03482186065888692\n",
      "  (0, 7795)\t0.06590728171684726\n",
      "  (0, 13093)\t0.06376103846514887\n",
      "  (0, 21948)\t0.05663149233133696\n",
      "  (0, 23090)\t0.10588361960086255\n",
      "  (0, 10246)\t0.06727164495166942\n",
      "  (0, 4474)\t0.0896670566858557\n",
      "  (0, 22051)\t0.07017973731342568\n",
      "  (0, 12872)\t0.10112722146825293\n",
      "  (0, 24558)\t0.07964549649741916\n",
      "  (0, 11397)\t0.032626608594429174\n",
      "  (0, 1501)\t0.11560180388494538\n",
      "  (0, 26988)\t0.10588361960086255\n",
      "  (0, 26656)\t0.10783098811804052\n",
      "  (0, 25066)\t0.10783098811804052\n",
      "  (0, 789)\t0.05380495766090924\n",
      "  (0, 9927)\t0.04745571975833939\n",
      "  (0, 844)\t0.05537289946905542\n",
      "  (0, 17978)\t0.11154041661058522\n",
      "  (0, 21609)\t0.15573196489264812\n",
      "  (0, 8919)\t0.24809510206609475\n",
      "  (0, 24065)\t0.16162610732409274\n",
      "  (0, 10082)\t0.09206828378800878\n",
      "  (0, 3192)\t0.5629369312532508\n",
      "  (0, 867)\t0.19073696952515554\n",
      "  (0, 30351)\t0.10622228322830628\n",
      "  (0, 10859)\t0.26150263536567\n",
      "  (0, 24161)\t0.17843586488652313\n",
      "  (0, 11228)\t0.10824583964745874\n",
      "  (0, 23761)\t0.13870577775929832\n",
      "  (0, 12591)\t0.11619118390819128\n",
      "  (0, 30624)\t0.1531371403909486\n",
      "  (0, 18455)\t0.09833415982649579\n",
      "  (0, 8092)\t0.24809510206609475\n",
      "  (0, 21349)\t0.15929099299483832\n",
      "  (0, 10372)\t0.16781663996036106\n",
      "  (0, 11229)\t0.23120360776989077\n"
     ]
    }
   ],
   "source": [
    "print(tv_reviews[0])"
   ]
  },
  {
   "cell_type": "code",
   "execution_count": 26,
   "metadata": {},
   "outputs": [
    {
     "data": {
      "text/plain": [
       "(2000, 10000)"
      ]
     },
     "execution_count": 26,
     "metadata": {},
     "output_type": "execute_result"
    }
   ],
   "source": [
    "#to filter by tf value and keep a certain number of features use max_features\n",
    "tv=TfidfVectorizer(max_features=10000)\n",
    "\n",
    "tv_reviews=tv.fit_transform(reviewsP[\"Review\"])\n",
    "\n",
    "tv_reviews.shape"
   ]
  },
  {
   "cell_type": "code",
   "execution_count": 28,
   "metadata": {},
   "outputs": [
    {
     "name": "stdout",
     "output_type": "stream",
     "text": [
      "[array(['movie', 'film', 'one', 'like', 'bad', 'time', 'good', 'really',\n",
      "       'well', 'story'], dtype=object)]\n"
     ]
    }
   ],
   "source": [
    "feature_names = np.array(tv.get_feature_names_out())\n",
    "\n",
    "def get_top_tf_idf_words(tv_reviews, top_n = 10):\n",
    "    importance = np.argsort(np.asarray(tv_reviews.sum(axis=0)).ravel())[::-1]\n",
    "    return feature_names[importance[:top_n]]\n",
    "\n",
    "print([get_top_tf_idf_words(tv_reviews, 10)])"
   ]
  },
  {
   "cell_type": "code",
   "execution_count": 29,
   "metadata": {},
   "outputs": [
    {
     "data": {
      "text/plain": [
       "count    2000.000000\n",
       "mean        0.058211\n",
       "std         0.069514\n",
       "min         0.000000\n",
       "25%         0.000000\n",
       "50%         0.032624\n",
       "75%         0.094944\n",
       "max         0.530520\n",
       "Name: movie, dtype: float64"
      ]
     },
     "execution_count": 29,
     "metadata": {},
     "output_type": "execute_result"
    }
   ],
   "source": [
    "df1 = pd.DataFrame(tv_reviews.toarray(), columns=tv.get_feature_names_out())\n",
    "\n",
    "df1[\"movie\"].describe()"
   ]
  },
  {
   "cell_type": "code",
   "execution_count": 30,
   "metadata": {},
   "outputs": [
    {
     "data": {
      "text/plain": [
       "<Axes: >"
      ]
     },
     "execution_count": 30,
     "metadata": {},
     "output_type": "execute_result"
    },
    {
     "data": {
      "image/png": "[encoded data removed]",
      "text/plain": [
       "<Figure size 432x288 with 1 Axes>"
      ]
     },
     "metadata": {
      "needs_background": "light"
     },
     "output_type": "display_data"
    }
   ],
   "source": [
    "df1[\"movie\"].hist()"
   ]
  }
 ],
 "metadata": {
  "kernelspec": {
   "display_name": "Python 3",
   "language": "python",
   "name": "python3"
  },
  "language_info": {
   "codemirror_mode": {
    "name": "ipython",
    "version": 3
   },
   "file_extension": ".py",
   "mimetype": "text/x-python",
   "name": "python",
   "nbconvert_exporter": "python",
   "pygments_lexer": "ipython3",
   "version": "3.9.13"
  }
 },
 "nbformat": 4,
 "nbformat_minor": 2
}
